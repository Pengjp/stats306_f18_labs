{
 "cells": [
  {
   "cell_type": "markdown",
   "metadata": {},
   "source": [
    "# Lab 4: Data Analysis"
   ]
  },
  {
   "cell_type": "markdown",
   "metadata": {},
   "source": [
    "Today, we look at what people order at Chipotle. Some example questions we are interested in are:\n",
    "- How much do people spend on average at Chipotle?\n",
    "- Do people prefer bowls or burritos?\n",
    "- What percentage of people order drinks?\n",
    "- ..."
   ]
  },
  {
   "cell_type": "markdown",
   "metadata": {},
   "source": [
    "Recall the following commands from `dplyr`:\n",
    "\n",
    "1. `group_by`\n",
    "2. `summarize`:  `df = df %>% group_by(groupvar) %>% summarize(newvar = mean(oldvar))`\n",
    "3. `mutate`: `df = df %>% mutate(newvar = oldvar + sqrt(oldvar2))`\n",
    "4. `filter`: `df = df %>% filter(compvar == 'something')`"
   ]
  },
  {
   "cell_type": "code",
   "execution_count": null,
   "metadata": {},
   "outputs": [],
   "source": [
    "# Setup and read in data\n",
    "options(repr.plot.width=8, repr.plot.height=4)\n",
    "\n",
    "library(dplyr)\n",
    "library(ggplot2)\n",
    "library(stringr)\n",
    "df = read.csv(\"https://raw.githubusercontent.com/rogerfan/stats306_f18_labs/master/chipotle.csv\", stringsAsFactors=F)\n",
    "df$X = NULL"
   ]
  },
  {
   "cell_type": "code",
   "execution_count": null,
   "metadata": {},
   "outputs": [],
   "source": [
    "head(df)"
   ]
  },
  {
   "cell_type": "markdown",
   "metadata": {},
   "source": [
    "### Q1: What are the five most popular items?"
   ]
  },
  {
   "cell_type": "code",
   "execution_count": null,
   "metadata": {},
   "outputs": [],
   "source": []
  },
  {
   "cell_type": "markdown",
   "metadata": {},
   "source": [
    "### Q2: `item_price` is currently a string. Remove the dollar sign and convert it to a numerical variable\n",
    "\n",
    "Hint: Consider the functions `str_replace` and `as.numeric`. Note that to replace dollar signs in the string you will need to use `'\\\\$'` in `str_replace`."
   ]
  },
  {
   "cell_type": "code",
   "execution_count": null,
   "metadata": {},
   "outputs": [],
   "source": [
    "df = df"
   ]
  },
  {
   "cell_type": "markdown",
   "metadata": {},
   "source": [
    "### Q3: Construct a summary table by item type\n",
    "\n",
    "For each item type, the table should contain the total revenue, the number of items sold, and the max, mean, and minimum prices. Sort the table by items sold in decreasing order.\n",
    "\n",
    "I have done this for you, and my solution is:"
   ]
  },
  {
   "cell_type": "code",
   "execution_count": 76,
   "metadata": {},
   "outputs": [
    {
     "data": {
      "text/html": [
       "<table>\n",
       "<thead><tr><th scope=col>item_name</th><th scope=col>revenue</th><th scope=col>itemsold</th><th scope=col>meanprice</th><th scope=col>maxprice</th><th scope=col>minprice</th></tr></thead>\n",
       "<tbody>\n",
       "\t<tr><td>Chicken Bowl       </td><td>7342.73            </td><td>726                </td><td>10.113953          </td><td>32.94              </td><td>8.19               </td></tr>\n",
       "\t<tr><td>Chicken Burrito    </td><td>5575.82            </td><td>553                </td><td>10.082857          </td><td>35.00              </td><td>8.19               </td></tr>\n",
       "\t<tr><td>Chips and Guacamole</td><td>2201.04            </td><td>479                </td><td> 4.595073          </td><td>17.80              </td><td>3.89               </td></tr>\n",
       "\t<tr><td>Steak Burrito      </td><td>3851.43            </td><td>368                </td><td>10.465842          </td><td>27.75              </td><td>8.69               </td></tr>\n",
       "\t<tr><td>Canned Soft Drink  </td><td> 438.75            </td><td>301                </td><td> 1.457641          </td><td> 5.00              </td><td>1.25               </td></tr>\n",
       "\t<tr><td>Chips              </td><td> 494.34            </td><td>211                </td><td> 2.342844          </td><td> 6.45              </td><td>1.99               </td></tr>\n",
       "</tbody>\n",
       "</table>\n"
      ],
      "text/latex": [
       "\\begin{tabular}{r|llllll}\n",
       " item\\_name & revenue & itemsold & meanprice & maxprice & minprice\\\\\n",
       "\\hline\n",
       "\t Chicken Bowl        & 7342.73             & 726                 & 10.113953           & 32.94               & 8.19               \\\\\n",
       "\t Chicken Burrito     & 5575.82             & 553                 & 10.082857           & 35.00               & 8.19               \\\\\n",
       "\t Chips and Guacamole & 2201.04             & 479                 &  4.595073           & 17.80               & 3.89               \\\\\n",
       "\t Steak Burrito       & 3851.43             & 368                 & 10.465842           & 27.75               & 8.69               \\\\\n",
       "\t Canned Soft Drink   &  438.75             & 301                 &  1.457641           &  5.00               & 1.25               \\\\\n",
       "\t Chips               &  494.34             & 211                 &  2.342844           &  6.45               & 1.99               \\\\\n",
       "\\end{tabular}\n"
      ],
      "text/markdown": [
       "\n",
       "item_name | revenue | itemsold | meanprice | maxprice | minprice | \n",
       "|---|---|---|---|---|---|\n",
       "| Chicken Bowl        | 7342.73             | 726                 | 10.113953           | 32.94               | 8.19                | \n",
       "| Chicken Burrito     | 5575.82             | 553                 | 10.082857           | 35.00               | 8.19                | \n",
       "| Chips and Guacamole | 2201.04             | 479                 |  4.595073           | 17.80               | 3.89                | \n",
       "| Steak Burrito       | 3851.43             | 368                 | 10.465842           | 27.75               | 8.69                | \n",
       "| Canned Soft Drink   |  438.75             | 301                 |  1.457641           |  5.00               | 1.25                | \n",
       "| Chips               |  494.34             | 211                 |  2.342844           |  6.45               | 1.99                | \n",
       "\n",
       "\n"
      ],
      "text/plain": [
       "  item_name           revenue itemsold meanprice maxprice minprice\n",
       "1 Chicken Bowl        7342.73 726      10.113953 32.94    8.19    \n",
       "2 Chicken Burrito     5575.82 553      10.082857 35.00    8.19    \n",
       "3 Chips and Guacamole 2201.04 479       4.595073 17.80    3.89    \n",
       "4 Steak Burrito       3851.43 368      10.465842 27.75    8.69    \n",
       "5 Canned Soft Drink    438.75 301       1.457641  5.00    1.25    \n",
       "6 Chips                494.34 211       2.342844  6.45    1.99    "
      ]
     },
     "metadata": {},
     "output_type": "display_data"
    }
   ],
   "source": [
    "pricetable = df %>% group_by(item_name) %>% \n",
    "    summarize(revenue = sum(item_price), \n",
    "              itemsold = n(),\n",
    "              meanprice = mean(item_price),\n",
    "              maxprice = max(item_price),                       \n",
    "              minprice = min(item_price)) %>% \n",
    "    arrange(desc(itemsold))\n",
    "head(pricetable)"
   ]
  },
  {
   "cell_type": "markdown",
   "metadata": {},
   "source": [
    "Does anything look strange about this summary?"
   ]
  },
  {
   "cell_type": "markdown",
   "metadata": {},
   "source": [
    "### Q4: What is the issue? Can you figure out the mistake in the code above?\n",
    "\n",
    "Hint: Look carefully some problematic rows."
   ]
  },
  {
   "cell_type": "code",
   "execution_count": null,
   "metadata": {},
   "outputs": [],
   "source": []
  },
  {
   "cell_type": "markdown",
   "metadata": {},
   "source": [
    "### How would you fix the code in Q3?"
   ]
  },
  {
   "cell_type": "code",
   "execution_count": 2,
   "metadata": {},
   "outputs": [],
   "source": [
    "pricetable = NA"
   ]
  },
  {
   "cell_type": "markdown",
   "metadata": {},
   "source": [
    "### Q4: Calculate the total price for each order. Plot a histogram of order prices."
   ]
  },
  {
   "cell_type": "code",
   "execution_count": 79,
   "metadata": {
    "collapsed": true
   },
   "outputs": [],
   "source": [
    "totalprice = NA"
   ]
  },
  {
   "cell_type": "code",
   "execution_count": null,
   "metadata": {},
   "outputs": [],
   "source": []
  },
  {
   "cell_type": "markdown",
   "metadata": {},
   "source": [
    "Note how extreme outliers can make it difficult to interpret plots."
   ]
  },
  {
   "cell_type": "markdown",
   "metadata": {},
   "source": [
    "### Q5: Change the plot in Q4 such that we look only at orders with prices below 40. Try different binwidths to see if your interpretations change."
   ]
  },
  {
   "cell_type": "code",
   "execution_count": 3,
   "metadata": {},
   "outputs": [],
   "source": [
    "totalprice_lt20 = NA"
   ]
  },
  {
   "cell_type": "code",
   "execution_count": null,
   "metadata": {
    "collapsed": true
   },
   "outputs": [],
   "source": []
  },
  {
   "cell_type": "markdown",
   "metadata": {},
   "source": [
    "How do your spending habits at Chipotle compare to those who are in the dataset?"
   ]
  },
  {
   "cell_type": "markdown",
   "metadata": {},
   "source": [
    "### Q6: Are bowls, burritos, or tacos more popular? Create a bar plot of amount sold of each.\n",
    "\n",
    "To extract whether an item is a bowl, burrito, or taco, you can use the following code:"
   ]
  },
  {
   "cell_type": "code",
   "execution_count": 82,
   "metadata": {},
   "outputs": [
    {
     "data": {
      "text/html": [
       "<table>\n",
       "<thead><tr><th scope=col>order_id</th><th scope=col>quantity</th><th scope=col>item_name</th><th scope=col>choice_description</th><th scope=col>item_price</th><th scope=col>type</th></tr></thead>\n",
       "<tbody>\n",
       "\t<tr><td>2                                                                                                                 </td><td>2                                                                                                                 </td><td>Chicken Bowl                                                                                                      </td><td>[Tomatillo-Red Chili Salsa (Hot), [Black Beans, Rice, Cheese, Sour Cream]]                                        </td><td>16.98                                                                                                             </td><td>Bowl                                                                                                              </td></tr>\n",
       "\t<tr><td>3                                                                                                                 </td><td>1                                                                                                                 </td><td>Chicken Bowl                                                                                                      </td><td>[Fresh Tomato Salsa (Mild), [Rice, Cheese, Sour Cream, Guacamole, Lettuce]]                                       </td><td>10.98                                                                                                             </td><td>Bowl                                                                                                              </td></tr>\n",
       "\t<tr><td>4                                                                                                                 </td><td>1                                                                                                                 </td><td>Steak Burrito                                                                                                     </td><td>[Tomatillo Red Chili Salsa, [Fajita Vegetables, Black Beans, Pinto Beans, Cheese, Sour Cream, Guacamole, Lettuce]]</td><td>11.75                                                                                                             </td><td>Burrito                                                                                                           </td></tr>\n",
       "\t<tr><td>4                                                                                                                 </td><td>1                                                                                                                 </td><td>Steak Soft Tacos                                                                                                  </td><td>[Tomatillo Green Chili Salsa, [Pinto Beans, Cheese, Sour Cream, Lettuce]]                                         </td><td> 9.25                                                                                                             </td><td>Tacos                                                                                                             </td></tr>\n",
       "\t<tr><td>5                                                                                                                 </td><td>1                                                                                                                 </td><td>Steak Burrito                                                                                                     </td><td>[Fresh Tomato Salsa, [Rice, Black Beans, Pinto Beans, Cheese, Sour Cream, Lettuce]]                               </td><td> 9.25                                                                                                             </td><td>Burrito                                                                                                           </td></tr>\n",
       "\t<tr><td>6                                                                                                                 </td><td>1                                                                                                                 </td><td>Chicken Crispy Tacos                                                                                              </td><td>[Roasted Chili Corn Salsa, [Fajita Vegetables, Rice, Black Beans, Cheese, Sour Cream]]                            </td><td> 8.75                                                                                                             </td><td>Tacos                                                                                                             </td></tr>\n",
       "</tbody>\n",
       "</table>\n"
      ],
      "text/latex": [
       "\\begin{tabular}{r|llllll}\n",
       " order\\_id & quantity & item\\_name & choice\\_description & item\\_price & type\\\\\n",
       "\\hline\n",
       "\t 2                                                                                                                          & 2                                                                                                                          & Chicken Bowl                                                                                                               & {[}Tomatillo-Red Chili Salsa (Hot), {[}Black Beans, Rice, Cheese, Sour Cream{]}{]}                                         & 16.98                                                                                                                      & Bowl                                                                                                                      \\\\\n",
       "\t 3                                                                                                                          & 1                                                                                                                          & Chicken Bowl                                                                                                               & {[}Fresh Tomato Salsa (Mild), {[}Rice, Cheese, Sour Cream, Guacamole, Lettuce{]}{]}                                        & 10.98                                                                                                                      & Bowl                                                                                                                      \\\\\n",
       "\t 4                                                                                                                          & 1                                                                                                                          & Steak Burrito                                                                                                              & {[}Tomatillo Red Chili Salsa, {[}Fajita Vegetables, Black Beans, Pinto Beans, Cheese, Sour Cream, Guacamole, Lettuce{]}{]} & 11.75                                                                                                                      & Burrito                                                                                                                   \\\\\n",
       "\t 4                                                                                                                          & 1                                                                                                                          & Steak Soft Tacos                                                                                                           & {[}Tomatillo Green Chili Salsa, {[}Pinto Beans, Cheese, Sour Cream, Lettuce{]}{]}                                          &  9.25                                                                                                                      & Tacos                                                                                                                     \\\\\n",
       "\t 5                                                                                                                          & 1                                                                                                                          & Steak Burrito                                                                                                              & {[}Fresh Tomato Salsa, {[}Rice, Black Beans, Pinto Beans, Cheese, Sour Cream, Lettuce{]}{]}                                &  9.25                                                                                                                      & Burrito                                                                                                                   \\\\\n",
       "\t 6                                                                                                                          & 1                                                                                                                          & Chicken Crispy Tacos                                                                                                       & {[}Roasted Chili Corn Salsa, {[}Fajita Vegetables, Rice, Black Beans, Cheese, Sour Cream{]}{]}                             &  8.75                                                                                                                      & Tacos                                                                                                                     \\\\\n",
       "\\end{tabular}\n"
      ],
      "text/markdown": [
       "\n",
       "order_id | quantity | item_name | choice_description | item_price | type | \n",
       "|---|---|---|---|---|---|\n",
       "| 2                                                                                                                  | 2                                                                                                                  | Chicken Bowl                                                                                                       | [Tomatillo-Red Chili Salsa (Hot), [Black Beans, Rice, Cheese, Sour Cream]]                                         | 16.98                                                                                                              | Bowl                                                                                                               | \n",
       "| 3                                                                                                                  | 1                                                                                                                  | Chicken Bowl                                                                                                       | [Fresh Tomato Salsa (Mild), [Rice, Cheese, Sour Cream, Guacamole, Lettuce]]                                        | 10.98                                                                                                              | Bowl                                                                                                               | \n",
       "| 4                                                                                                                  | 1                                                                                                                  | Steak Burrito                                                                                                      | [Tomatillo Red Chili Salsa, [Fajita Vegetables, Black Beans, Pinto Beans, Cheese, Sour Cream, Guacamole, Lettuce]] | 11.75                                                                                                              | Burrito                                                                                                            | \n",
       "| 4                                                                                                                  | 1                                                                                                                  | Steak Soft Tacos                                                                                                   | [Tomatillo Green Chili Salsa, [Pinto Beans, Cheese, Sour Cream, Lettuce]]                                          |  9.25                                                                                                              | Tacos                                                                                                              | \n",
       "| 5                                                                                                                  | 1                                                                                                                  | Steak Burrito                                                                                                      | [Fresh Tomato Salsa, [Rice, Black Beans, Pinto Beans, Cheese, Sour Cream, Lettuce]]                                |  9.25                                                                                                              | Burrito                                                                                                            | \n",
       "| 6                                                                                                                  | 1                                                                                                                  | Chicken Crispy Tacos                                                                                               | [Roasted Chili Corn Salsa, [Fajita Vegetables, Rice, Black Beans, Cheese, Sour Cream]]                             |  8.75                                                                                                              | Tacos                                                                                                              | \n",
       "\n",
       "\n"
      ],
      "text/plain": [
       "  order_id quantity item_name           \n",
       "1 2        2        Chicken Bowl        \n",
       "2 3        1        Chicken Bowl        \n",
       "3 4        1        Steak Burrito       \n",
       "4 4        1        Steak Soft Tacos    \n",
       "5 5        1        Steak Burrito       \n",
       "6 6        1        Chicken Crispy Tacos\n",
       "  choice_description                                                                                                \n",
       "1 [Tomatillo-Red Chili Salsa (Hot), [Black Beans, Rice, Cheese, Sour Cream]]                                        \n",
       "2 [Fresh Tomato Salsa (Mild), [Rice, Cheese, Sour Cream, Guacamole, Lettuce]]                                       \n",
       "3 [Tomatillo Red Chili Salsa, [Fajita Vegetables, Black Beans, Pinto Beans, Cheese, Sour Cream, Guacamole, Lettuce]]\n",
       "4 [Tomatillo Green Chili Salsa, [Pinto Beans, Cheese, Sour Cream, Lettuce]]                                         \n",
       "5 [Fresh Tomato Salsa, [Rice, Black Beans, Pinto Beans, Cheese, Sour Cream, Lettuce]]                               \n",
       "6 [Roasted Chili Corn Salsa, [Fajita Vegetables, Rice, Black Beans, Cheese, Sour Cream]]                            \n",
       "  item_price type   \n",
       "1 16.98      Bowl   \n",
       "2 10.98      Bowl   \n",
       "3 11.75      Burrito\n",
       "4  9.25      Tacos  \n",
       "5  9.25      Burrito\n",
       "6  8.75      Tacos  "
      ]
     },
     "metadata": {},
     "output_type": "display_data"
    }
   ],
   "source": [
    "df = df %>% mutate(type = case_when(grepl(\"Bowl\", item_name) ~ \"Bowl\",\n",
    "                                    grepl(\"Burrito\", item_name) ~ \"Burrito\",\n",
    "                                    grepl(\"Tacos\", item_name) ~ \"Tacos\",\n",
    "                                    TRUE ~ \"neither\"))\n",
    "bowburtable = df %>% filter(type != \"neither\") \n",
    "head(bowburtable)"
   ]
  },
  {
   "cell_type": "code",
   "execution_count": null,
   "metadata": {},
   "outputs": [],
   "source": []
  },
  {
   "cell_type": "markdown",
   "metadata": {},
   "source": [
    "### What about the different fillings (Chicken, Steak, Barbacoa, Carnitas, Veggie)? Color the above bar chart by type of filling."
   ]
  },
  {
   "cell_type": "code",
   "execution_count": null,
   "metadata": {},
   "outputs": [],
   "source": []
  },
  {
   "cell_type": "code",
   "execution_count": null,
   "metadata": {},
   "outputs": [],
   "source": []
  },
  {
   "cell_type": "markdown",
   "metadata": {},
   "source": [
    "### Is there a modification you can make to the default bar chart to compare proportion of fillings across order types more easily?"
   ]
  },
  {
   "cell_type": "code",
   "execution_count": null,
   "metadata": {},
   "outputs": [],
   "source": []
  },
  {
   "cell_type": "markdown",
   "metadata": {},
   "source": [
    "### Q7: How many order contain at least one drink of any kind? How many don't have a drink? Create a bar plot."
   ]
  },
  {
   "cell_type": "code",
   "execution_count": 87,
   "metadata": {},
   "outputs": [
    {
     "data": {
      "text/html": [
       "<ol class=list-inline>\n",
       "\t<li>'Chips and Fresh Tomato Salsa'</li>\n",
       "\t<li>'Izze'</li>\n",
       "\t<li>'Nantucket Nectar'</li>\n",
       "\t<li>'Chips and Tomatillo-Green Chili Salsa'</li>\n",
       "\t<li>'Chicken Bowl'</li>\n",
       "\t<li>'Side of Chips'</li>\n",
       "\t<li>'Steak Burrito'</li>\n",
       "\t<li>'Steak Soft Tacos'</li>\n",
       "\t<li>'Chips and Guacamole'</li>\n",
       "\t<li>'Chicken Crispy Tacos'</li>\n",
       "\t<li>'Chicken Soft Tacos'</li>\n",
       "\t<li>'Chicken Burrito'</li>\n",
       "\t<li>'Canned Soda'</li>\n",
       "\t<li>'Barbacoa Burrito'</li>\n",
       "\t<li>'Carnitas Burrito'</li>\n",
       "\t<li>'Carnitas Bowl'</li>\n",
       "\t<li>'Bottled Water'</li>\n",
       "\t<li>'Chips and Tomatillo Green Chili Salsa'</li>\n",
       "\t<li>'Barbacoa Bowl'</li>\n",
       "\t<li>'Chips'</li>\n",
       "\t<li>'Chicken Salad Bowl'</li>\n",
       "\t<li>'Steak Bowl'</li>\n",
       "\t<li>'Barbacoa Soft Tacos'</li>\n",
       "\t<li>'Veggie Burrito'</li>\n",
       "\t<li>'Veggie Bowl'</li>\n",
       "\t<li>'Steak Crispy Tacos'</li>\n",
       "\t<li>'Chips and Tomatillo Red Chili Salsa'</li>\n",
       "\t<li>'Barbacoa Crispy Tacos'</li>\n",
       "\t<li>'Veggie Salad Bowl'</li>\n",
       "\t<li>'Chips and Roasted Chili-Corn Salsa'</li>\n",
       "\t<li>'Chips and Roasted Chili Corn Salsa'</li>\n",
       "\t<li>'Carnitas Soft Tacos'</li>\n",
       "\t<li>'Chicken Salad'</li>\n",
       "\t<li>'Canned Soft Drink'</li>\n",
       "\t<li>'Steak Salad Bowl'</li>\n",
       "\t<li>'6 Pack Soft Drink'</li>\n",
       "\t<li>'Chips and Tomatillo-Red Chili Salsa'</li>\n",
       "\t<li>'Bowl'</li>\n",
       "\t<li>'Burrito'</li>\n",
       "\t<li>'Crispy Tacos'</li>\n",
       "\t<li>'Carnitas Crispy Tacos'</li>\n",
       "\t<li>'Steak Salad'</li>\n",
       "\t<li>'Chips and Mild Fresh Tomato Salsa'</li>\n",
       "\t<li>'Veggie Soft Tacos'</li>\n",
       "\t<li>'Carnitas Salad Bowl'</li>\n",
       "\t<li>'Barbacoa Salad Bowl'</li>\n",
       "\t<li>'Salad'</li>\n",
       "\t<li>'Veggie Crispy Tacos'</li>\n",
       "\t<li>'Veggie Salad'</li>\n",
       "\t<li>'Carnitas Salad'</li>\n",
       "</ol>\n"
      ],
      "text/latex": [
       "\\begin{enumerate*}\n",
       "\\item 'Chips and Fresh Tomato Salsa'\n",
       "\\item 'Izze'\n",
       "\\item 'Nantucket Nectar'\n",
       "\\item 'Chips and Tomatillo-Green Chili Salsa'\n",
       "\\item 'Chicken Bowl'\n",
       "\\item 'Side of Chips'\n",
       "\\item 'Steak Burrito'\n",
       "\\item 'Steak Soft Tacos'\n",
       "\\item 'Chips and Guacamole'\n",
       "\\item 'Chicken Crispy Tacos'\n",
       "\\item 'Chicken Soft Tacos'\n",
       "\\item 'Chicken Burrito'\n",
       "\\item 'Canned Soda'\n",
       "\\item 'Barbacoa Burrito'\n",
       "\\item 'Carnitas Burrito'\n",
       "\\item 'Carnitas Bowl'\n",
       "\\item 'Bottled Water'\n",
       "\\item 'Chips and Tomatillo Green Chili Salsa'\n",
       "\\item 'Barbacoa Bowl'\n",
       "\\item 'Chips'\n",
       "\\item 'Chicken Salad Bowl'\n",
       "\\item 'Steak Bowl'\n",
       "\\item 'Barbacoa Soft Tacos'\n",
       "\\item 'Veggie Burrito'\n",
       "\\item 'Veggie Bowl'\n",
       "\\item 'Steak Crispy Tacos'\n",
       "\\item 'Chips and Tomatillo Red Chili Salsa'\n",
       "\\item 'Barbacoa Crispy Tacos'\n",
       "\\item 'Veggie Salad Bowl'\n",
       "\\item 'Chips and Roasted Chili-Corn Salsa'\n",
       "\\item 'Chips and Roasted Chili Corn Salsa'\n",
       "\\item 'Carnitas Soft Tacos'\n",
       "\\item 'Chicken Salad'\n",
       "\\item 'Canned Soft Drink'\n",
       "\\item 'Steak Salad Bowl'\n",
       "\\item '6 Pack Soft Drink'\n",
       "\\item 'Chips and Tomatillo-Red Chili Salsa'\n",
       "\\item 'Bowl'\n",
       "\\item 'Burrito'\n",
       "\\item 'Crispy Tacos'\n",
       "\\item 'Carnitas Crispy Tacos'\n",
       "\\item 'Steak Salad'\n",
       "\\item 'Chips and Mild Fresh Tomato Salsa'\n",
       "\\item 'Veggie Soft Tacos'\n",
       "\\item 'Carnitas Salad Bowl'\n",
       "\\item 'Barbacoa Salad Bowl'\n",
       "\\item 'Salad'\n",
       "\\item 'Veggie Crispy Tacos'\n",
       "\\item 'Veggie Salad'\n",
       "\\item 'Carnitas Salad'\n",
       "\\end{enumerate*}\n"
      ],
      "text/markdown": [
       "1. 'Chips and Fresh Tomato Salsa'\n",
       "2. 'Izze'\n",
       "3. 'Nantucket Nectar'\n",
       "4. 'Chips and Tomatillo-Green Chili Salsa'\n",
       "5. 'Chicken Bowl'\n",
       "6. 'Side of Chips'\n",
       "7. 'Steak Burrito'\n",
       "8. 'Steak Soft Tacos'\n",
       "9. 'Chips and Guacamole'\n",
       "10. 'Chicken Crispy Tacos'\n",
       "11. 'Chicken Soft Tacos'\n",
       "12. 'Chicken Burrito'\n",
       "13. 'Canned Soda'\n",
       "14. 'Barbacoa Burrito'\n",
       "15. 'Carnitas Burrito'\n",
       "16. 'Carnitas Bowl'\n",
       "17. 'Bottled Water'\n",
       "18. 'Chips and Tomatillo Green Chili Salsa'\n",
       "19. 'Barbacoa Bowl'\n",
       "20. 'Chips'\n",
       "21. 'Chicken Salad Bowl'\n",
       "22. 'Steak Bowl'\n",
       "23. 'Barbacoa Soft Tacos'\n",
       "24. 'Veggie Burrito'\n",
       "25. 'Veggie Bowl'\n",
       "26. 'Steak Crispy Tacos'\n",
       "27. 'Chips and Tomatillo Red Chili Salsa'\n",
       "28. 'Barbacoa Crispy Tacos'\n",
       "29. 'Veggie Salad Bowl'\n",
       "30. 'Chips and Roasted Chili-Corn Salsa'\n",
       "31. 'Chips and Roasted Chili Corn Salsa'\n",
       "32. 'Carnitas Soft Tacos'\n",
       "33. 'Chicken Salad'\n",
       "34. 'Canned Soft Drink'\n",
       "35. 'Steak Salad Bowl'\n",
       "36. '6 Pack Soft Drink'\n",
       "37. 'Chips and Tomatillo-Red Chili Salsa'\n",
       "38. 'Bowl'\n",
       "39. 'Burrito'\n",
       "40. 'Crispy Tacos'\n",
       "41. 'Carnitas Crispy Tacos'\n",
       "42. 'Steak Salad'\n",
       "43. 'Chips and Mild Fresh Tomato Salsa'\n",
       "44. 'Veggie Soft Tacos'\n",
       "45. 'Carnitas Salad Bowl'\n",
       "46. 'Barbacoa Salad Bowl'\n",
       "47. 'Salad'\n",
       "48. 'Veggie Crispy Tacos'\n",
       "49. 'Veggie Salad'\n",
       "50. 'Carnitas Salad'\n",
       "\n",
       "\n"
      ],
      "text/plain": [
       " [1] \"Chips and Fresh Tomato Salsa\"         \n",
       " [2] \"Izze\"                                 \n",
       " [3] \"Nantucket Nectar\"                     \n",
       " [4] \"Chips and Tomatillo-Green Chili Salsa\"\n",
       " [5] \"Chicken Bowl\"                         \n",
       " [6] \"Side of Chips\"                        \n",
       " [7] \"Steak Burrito\"                        \n",
       " [8] \"Steak Soft Tacos\"                     \n",
       " [9] \"Chips and Guacamole\"                  \n",
       "[10] \"Chicken Crispy Tacos\"                 \n",
       "[11] \"Chicken Soft Tacos\"                   \n",
       "[12] \"Chicken Burrito\"                      \n",
       "[13] \"Canned Soda\"                          \n",
       "[14] \"Barbacoa Burrito\"                     \n",
       "[15] \"Carnitas Burrito\"                     \n",
       "[16] \"Carnitas Bowl\"                        \n",
       "[17] \"Bottled Water\"                        \n",
       "[18] \"Chips and Tomatillo Green Chili Salsa\"\n",
       "[19] \"Barbacoa Bowl\"                        \n",
       "[20] \"Chips\"                                \n",
       "[21] \"Chicken Salad Bowl\"                   \n",
       "[22] \"Steak Bowl\"                           \n",
       "[23] \"Barbacoa Soft Tacos\"                  \n",
       "[24] \"Veggie Burrito\"                       \n",
       "[25] \"Veggie Bowl\"                          \n",
       "[26] \"Steak Crispy Tacos\"                   \n",
       "[27] \"Chips and Tomatillo Red Chili Salsa\"  \n",
       "[28] \"Barbacoa Crispy Tacos\"                \n",
       "[29] \"Veggie Salad Bowl\"                    \n",
       "[30] \"Chips and Roasted Chili-Corn Salsa\"   \n",
       "[31] \"Chips and Roasted Chili Corn Salsa\"   \n",
       "[32] \"Carnitas Soft Tacos\"                  \n",
       "[33] \"Chicken Salad\"                        \n",
       "[34] \"Canned Soft Drink\"                    \n",
       "[35] \"Steak Salad Bowl\"                     \n",
       "[36] \"6 Pack Soft Drink\"                    \n",
       "[37] \"Chips and Tomatillo-Red Chili Salsa\"  \n",
       "[38] \"Bowl\"                                 \n",
       "[39] \"Burrito\"                              \n",
       "[40] \"Crispy Tacos\"                         \n",
       "[41] \"Carnitas Crispy Tacos\"                \n",
       "[42] \"Steak Salad\"                          \n",
       "[43] \"Chips and Mild Fresh Tomato Salsa\"    \n",
       "[44] \"Veggie Soft Tacos\"                    \n",
       "[45] \"Carnitas Salad Bowl\"                  \n",
       "[46] \"Barbacoa Salad Bowl\"                  \n",
       "[47] \"Salad\"                                \n",
       "[48] \"Veggie Crispy Tacos\"                  \n",
       "[49] \"Veggie Salad\"                         \n",
       "[50] \"Carnitas Salad\"                       "
      ]
     },
     "metadata": {},
     "output_type": "display_data"
    }
   ],
   "source": [
    "unique(df$item_name)"
   ]
  },
  {
   "cell_type": "code",
   "execution_count": null,
   "metadata": {},
   "outputs": [],
   "source": []
  },
  {
   "cell_type": "markdown",
   "metadata": {},
   "source": [
    "### Bonus Question: Suppose non-drink items have a 20% profit margin and drinks have a 50% profit margin. What percentage of the total profit comes from drinks?"
   ]
  },
  {
   "cell_type": "code",
   "execution_count": null,
   "metadata": {
    "collapsed": true
   },
   "outputs": [],
   "source": []
  }
 ],
 "metadata": {
  "kernelspec": {
   "display_name": "R",
   "language": "R",
   "name": "ir"
  },
  "language_info": {
   "codemirror_mode": "r",
   "file_extension": ".r",
   "mimetype": "text/x-r-source",
   "name": "R",
   "pygments_lexer": "r",
   "version": "3.4.2"
  }
 },
 "nbformat": 4,
 "nbformat_minor": 2
}
